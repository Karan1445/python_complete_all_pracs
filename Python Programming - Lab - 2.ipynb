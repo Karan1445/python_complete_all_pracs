{
 "cells": [
  {
   "cell_type": "markdown",
   "metadata": {},
   "source": [
    "\n",
    "<a href='https://www.darshan.ac.in/'> <img src='https://www.darshan.ac.in/Content/media/DU_Logo.svg' width=\"250\" height=\"300\"/></a>\n",
    "<pre>\n",
    "<center><b><h1>Python Programming - 2101CS405</b></center>\n",
    "<center><b><h1>Lab - 2</b></center>    \n",
    "<pre>"
   ]
  },
  {
   "cell_type": "markdown",
   "metadata": {},
   "source": [
    "# if..else.."
   ]
  },
  {
   "cell_type": "markdown",
   "metadata": {},
   "source": [
    "### 01) WAP to check whether the given number is positive or negative."
   ]
  },
  {
   "cell_type": "code",
   "execution_count": 3,
   "metadata": {},
   "outputs": [
    {
     "name": "stdout",
     "output_type": "stream",
     "text": [
      "enter any number :-12\n",
      "number is nagetive -12\n"
     ]
    }
   ],
   "source": [
    "a=int(input(\"enter any number :\"))\n",
    "if(a>0):\n",
    "    print(\"number is positive\",a)\n",
    "else:\n",
    "    print(\"number is nagetive\",a)\n"
   ]
  },
  {
   "cell_type": "markdown",
   "metadata": {},
   "source": [
    "### 02) WAP to check whether the given number is odd or even"
   ]
  },
  {
   "cell_type": "code",
   "execution_count": 6,
   "metadata": {},
   "outputs": [
    {
     "name": "stdout",
     "output_type": "stream",
     "text": [
      "enter any number :3\n",
      "number is odd 3\n"
     ]
    }
   ],
   "source": [
    "a=int(input(\"enter any number :\"))\n",
    "if(a%2==0):\n",
    "    print(\"number is even\",a)\n",
    "else:\n",
    "    print(\"number is odd\",a)\n"
   ]
  },
  {
   "cell_type": "markdown",
   "metadata": {},
   "source": [
    "### 03) WAP to find out largest number from given two numbers using simple if and ternary operator."
   ]
  },
  {
   "cell_type": "code",
   "execution_count": 12,
   "metadata": {},
   "outputs": [
    {
     "name": "stdout",
     "output_type": "stream",
     "text": [
      "enter first number :12\n",
      "enter second number :23\n",
      "number is grater 23\n"
     ]
    }
   ],
   "source": [
    "a=int(input(\"enter first number :\"))\n",
    "b=int(input(\"enter second number :\"))\n",
    "\n",
    "print(\"number is grater\",a) if(a>b) else print(\"number is grater\",b)\n"
   ]
  },
  {
   "cell_type": "markdown",
   "metadata": {},
   "source": [
    "### 04) WAP to find out largest number from given three numbers."
   ]
  },
  {
   "cell_type": "code",
   "execution_count": 15,
   "metadata": {},
   "outputs": [
    {
     "name": "stdout",
     "output_type": "stream",
     "text": [
      "enter first number :12\n",
      "enter second number :41\n",
      "enter thrid number :23\n",
      "number is grater 41\n"
     ]
    }
   ],
   "source": [
    "a=int(input(\"enter first number :\"))\n",
    "b=int(input(\"enter second number :\"))\n",
    "c=int(input(\"enter thrid number :\"))\n",
    "\n",
    "if(a>b and a>c):\n",
    "    print(\"number is grater\",a)\n",
    "elif(b>c):\n",
    "    print(\"number is grater\",b)\n",
    "else:\n",
    "    print(\"number is grater\",c)"
   ]
  },
  {
   "cell_type": "markdown",
   "metadata": {},
   "source": [
    "### 05) WAP to check whether the given year is leap year or not.\n",
    "[If a year can be divisible by 4 but not divisible by 100 then it is leap year but if it is divisible by 400 then it is leap year]"
   ]
  },
  {
   "cell_type": "code",
   "execution_count": 21,
   "metadata": {},
   "outputs": [
    {
     "name": "stdout",
     "output_type": "stream",
     "text": [
      "enter year :2024\n",
      "year is leap year 2024\n"
     ]
    }
   ],
   "source": [
    "a=int(input(\"enter year :\"))\n",
    "if((a% 4==0 and a%100 !=0) or a%400==0) : \n",
    "    print(\"year is leap year\",a)\n",
    "else :\n",
    "    print(\"year is not leap year\",a)\n"
   ]
  },
  {
   "cell_type": "markdown",
   "metadata": {},
   "source": [
    "### 06) WAP in python to display the name of the day according to the number given by the user"
   ]
  },
  {
   "cell_type": "code",
   "execution_count": 24,
   "metadata": {},
   "outputs": [
    {
     "name": "stdout",
     "output_type": "stream",
     "text": [
      "enter any number :7\n",
      "sunday\n"
     ]
    }
   ],
   "source": [
    "a=int(input(\"enter any number :\"))\n",
    "if(a==1):\n",
    "    print(\"monday\")\n",
    "elif(a==2):\n",
    "    print(\"tuesday\")\n",
    "elif(a==3):\n",
    "    print(\"wadnesday\")\n",
    "elif(a==4):\n",
    "    print(\"thuesday\")\n",
    "elif(a==5):\n",
    "    print(\"friday\")\n",
    "elif(a==6):\n",
    "    print(\"saturday\")    \n",
    "elif(a==7):\n",
    "    print(\"sunday\")\n",
    "else: \n",
    "    print(\"invalid chioce\")"
   ]
  },
  {
   "cell_type": "markdown",
   "metadata": {},
   "source": [
    "### 07) WAP to implement simple calculator which performs (add,sub,mul,div) of two no. based on user input."
   ]
  },
  {
   "cell_type": "code",
   "execution_count": 25,
   "metadata": {},
   "outputs": [
    {
     "name": "stdout",
     "output_type": "stream",
     "text": [
      "enter first number :12\n",
      "enter second number :4\n",
      "enter any number :1\n",
      "add is 16\n"
     ]
    }
   ],
   "source": [
    "a=int(input(\"enter first number :\"))\n",
    "b=int(input(\"enter second number :\"))\n",
    "c=int(input(\"enter any number :\"))\n",
    "if(c==1):\n",
    "    print(\"add is\",a+b)\n",
    "elif(c==2):\n",
    "    print(\"sub is\",a-b)\n",
    "elif(c==3):\n",
    "    print(\"mul is\",a*b)\n",
    "elif(c==4):\n",
    "    print(\"div is\",a/b)\n",
    "else: \n",
    "    print(\"invalid chioce\")"
   ]
  },
  {
   "cell_type": "markdown",
   "metadata": {},
   "source": [
    "### 08) WAP to calculate electricity bill based on following criteria. Which takes the unit from the user.\n",
    "a. First 1 to 50 units – Rs. 2.60/unit</br>\n",
    "b. Next 50 to 100 units – Rs. 3.25/unit</br>\n",
    "c. Next 100 to 200 units – Rs. 5.26/unit</br>\n",
    "d. above 200 units – Rs. 8.45/unit"
   ]
  },
  {
   "cell_type": "code",
   "execution_count": 26,
   "metadata": {},
   "outputs": [
    {
     "name": "stdout",
     "output_type": "stream",
     "text": [
      "enter unit :145\n",
      "RS.is 1225.25\n"
     ]
    }
   ],
   "source": [
    "a=int(input(\"enter unit :\"))\n",
    "if(1>=a and a<=50):\n",
    "    print(\"RS.is\",a*2.60)\n",
    "elif(51>=a and a<=100):\n",
    "    print(\"RS.is\",a*3.25)\n",
    "elif(101>=a and a<=200):\n",
    "    print(\"RS.is\",a*5.26)\n",
    "elif(200>a ):\n",
    "    print(\"RS.is\",a*8.45)\n",
    "else: \n",
    "    print(\"invalid chioce\")"
   ]
  },
  {
   "cell_type": "markdown",
   "metadata": {},
   "source": [
    "### 01) WAP to read marks of five subjects. Calculate percentage and print class accordingly. \n",
    "Fail below 35 </br>\n",
    "Pass Class between 35 to 45 </br>\n",
    "Second Class</br>\n",
    "between 45 to 60</br>\n",
    "First Class between 60 to 70</br> \n",
    "Distinction if more than 70"
   ]
  },
  {
   "cell_type": "code",
   "execution_count": 36,
   "metadata": {},
   "outputs": [
    {
     "name": "stdout",
     "output_type": "stream",
     "text": [
      "enter first subject :90\n",
      "enter second subject :90\n",
      "enter thrid subject :90\n",
      "enter fourth subject :90\n",
      "enter five subject :90\n",
      "90.0\n",
      "Distinction 90.0\n"
     ]
    }
   ],
   "source": [
    "a=int(input(\"enter first subject :\"))\n",
    "b=int(input(\"enter second subject :\"))\n",
    "c=int(input(\"enter thrid subject :\"))\n",
    "d=int(input(\"enter fourth subject :\"))\n",
    "e=int(input(\"enter five subject :\"))\n",
    "\n",
    "x=(a+b+c+d+e)/5\n",
    "print(x)\n",
    "if(x<35):\n",
    "    print(\"fail\",x)\n",
    "elif(x>=35 and x<45):\n",
    "    print(\"pass \",x)\n",
    "elif(45<=x and x<60):\n",
    "    print(\"seocnd class\",x)\n",
    "elif(60<=x and x<70):\n",
    "    print(\"first class\",x)\n",
    "elif(70<=x):\n",
    "    print(\"Distinction\",x)    \n",
    "else: \n",
    "    print(\"invalid total mark\")\n"
   ]
  },
  {
   "cell_type": "markdown",
   "metadata": {},
   "source": [
    "### 02) WAP to find out the Maximum and Minimum number from given 4 numbers."
   ]
  },
  {
   "cell_type": "code",
   "execution_count": 42,
   "metadata": {},
   "outputs": [
    {
     "name": "stdout",
     "output_type": "stream",
     "text": [
      "enter first number :12\n",
      "enter second number :23\n",
      "enter thrid number :45\n",
      "enter fourth number :56\n",
      "maximum number is : 56\n",
      "minimum number : 12\n"
     ]
    }
   ],
   "source": [
    "a=int(input(\"enter first number :\"))\n",
    "b=int(input(\"enter second number :\"))\n",
    "c=int(input(\"enter thrid number :\"))\n",
    "d=int(input(\"enter fourth number :\"))\n",
    "if(a>b and a>c and a>d):\n",
    "    print(\"maximum number :\",a)\n",
    "elif(b>c and b>d):\n",
    "    print(\"maximum number :\",b)\n",
    "elif(c>d):\n",
    "    print(\"maximum number :\",c)\n",
    "else:\n",
    "    print(\"maximum number is :\",d)\n",
    "    \n",
    "if(a<b and a<c and a<d):\n",
    "    print(\"minimum number :\",a)\n",
    "elif(b<c and b<d):\n",
    "    print(\"minimum number :\",b)\n",
    "elif(c<d):\n",
    "    print(\"minimum number :\",c)\n",
    "else:\n",
    "    print(\"minimum number is :\",d)"
   ]
  },
  {
   "cell_type": "markdown",
   "metadata": {},
   "source": [
    "### 03) WAP to input an integer number and check the last digit of number is even or odd."
   ]
  },
  {
   "cell_type": "code",
   "execution_count": 43,
   "metadata": {},
   "outputs": [
    {
     "name": "stdout",
     "output_type": "stream",
     "text": [
      "enter any number :1245\n",
      "last digit is odd 1245\n"
     ]
    }
   ],
   "source": [
    "a=int(input(\"enter any number :\"))\n",
    "if(a%2==0):\n",
    "    print(\"last digit is even\",a)\n",
    "else:\n",
    "    print(\"last digit is odd\",a)\n"
   ]
  },
  {
   "cell_type": "markdown",
   "metadata": {},
   "source": [
    "### 04) WAP to determine the roots of the equation ax2+bx+c=0."
   ]
  },
  {
   "cell_type": "code",
   "execution_count": 49,
   "metadata": {},
   "outputs": [
    {
     "name": "stdout",
     "output_type": "stream",
     "text": [
      "enter any number :1\n",
      "enter any number :4\n",
      "enter any number :5\n",
      "ans is : (-2+1j)\n",
      "ans is : (-2-1j)\n"
     ]
    }
   ],
   "source": [
    "a=int(input(\"enter any number :\"))\n",
    "b=int(input(\"enter any number :\"))\n",
    "c=int(input(\"enter any number :\"))\n",
    "x=(-b + (b*b -4*a*c) **0.5) /2*a\n",
    "x1=(-b - (b*b -4*a*c )**0.5)/2*a\n",
    "print(\"ans is :\",x)\n",
    "print(\"ans is :\",x1)"
   ]
  }
 ],
 "metadata": {
  "kernelspec": {
   "display_name": "Python 3 (ipykernel)",
   "language": "python",
   "name": "python3"
  },
  "language_info": {
   "codemirror_mode": {
    "name": "ipython",
    "version": 3
   },
   "file_extension": ".py",
   "mimetype": "text/x-python",
   "name": "python",
   "nbconvert_exporter": "python",
   "pygments_lexer": "ipython3",
   "version": "3.11.5"
  }
 },
 "nbformat": 4,
 "nbformat_minor": 4
}
