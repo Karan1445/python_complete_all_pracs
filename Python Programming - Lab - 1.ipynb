{
 "cells": [
  {
   "cell_type": "markdown",
   "metadata": {},
   "source": [
    "<a href='https://www.darshan.ac.in/'> <img src='https://www.darshan.ac.in/Content/media/DU_Logo.svg' width=\"250\" height=\"300\"/></a>\n",
    "<pre>\n",
    "<center><b><h1>Python Programming - 2101CS405</b></center>\n",
    "<center><b><h1>Lab - 1</b></center>    \n",
    "<pre>"
   ]
  },
  {
   "cell_type": "markdown",
   "metadata": {},
   "source": [
    "### 01) WAP to print “Hello World”"
   ]
  },
  {
   "cell_type": "code",
   "execution_count": 2,
   "metadata": {},
   "outputs": [
    {
     "name": "stdout",
     "output_type": "stream",
     "text": [
      "hello world\n"
     ]
    }
   ],
   "source": [
    "print(\"hello world\")"
   ]
  },
  {
   "cell_type": "markdown",
   "metadata": {},
   "source": [
    "### 02) WAP to print your address i) using single print ii) using multiple print"
   ]
  },
  {
   "cell_type": "code",
   "execution_count": 9,
   "metadata": {},
   "outputs": [
    {
     "name": "stdout",
     "output_type": "stream",
     "text": [
      "ranchodnagar\n",
      "parevdichowk,rajkot,360003\n"
     ]
    }
   ],
   "source": [
    "print(\"ranchodnagar\")\n",
    "print(\"parevdichowk,rajkot,360003\")"
   ]
  },
  {
   "cell_type": "markdown",
   "metadata": {},
   "source": [
    "### 03) WAP to print addition of 2 numbers (without input function)"
   ]
  },
  {
   "cell_type": "code",
   "execution_count": 1,
   "metadata": {},
   "outputs": [
    {
     "name": "stdout",
     "output_type": "stream",
     "text": [
      "25\n"
     ]
    }
   ],
   "source": [
    "a =5\n",
    "b=20\n",
    "print(a+b)"
   ]
  },
  {
   "cell_type": "markdown",
   "metadata": {},
   "source": [
    "### 04) WAP to calculate and print average of 2 numbers (without input function)"
   ]
  },
  {
   "cell_type": "code",
   "execution_count": 3,
   "metadata": {},
   "outputs": [
    {
     "name": "stdout",
     "output_type": "stream",
     "text": [
      "15.0\n"
     ]
    }
   ],
   "source": [
    "a=10;\n",
    "b=15;\n",
    "c=20\n",
    "print((a+b+c)/3)"
   ]
  },
  {
   "cell_type": "markdown",
   "metadata": {},
   "source": [
    "### 05) WAP to add two number entered by user."
   ]
  },
  {
   "cell_type": "code",
   "execution_count": 4,
   "metadata": {},
   "outputs": [
    {
     "name": "stdout",
     "output_type": "stream",
     "text": [
      "enter a num45\n",
      "enter b num45\n",
      "90\n"
     ]
    }
   ],
   "source": [
    "a=int(input(\"enter a num\"));\n",
    "b=int(input(\"enter b num\"));\n",
    "print(a+b);"
   ]
  },
  {
   "cell_type": "markdown",
   "metadata": {},
   "source": [
    "### 06) WAP to calculate simple interest."
   ]
  },
  {
   "cell_type": "code",
   "execution_count": 5,
   "metadata": {},
   "outputs": [
    {
     "name": "stdout",
     "output_type": "stream",
     "text": [
      "enter amt: 50000\n",
      "enter a mnt: 50\n",
      "enter a interst: 50\n",
      "50050.5\n"
     ]
    }
   ],
   "source": [
    "a=int(input(\"enter amt: \"))\n",
    "mnt=int(input(\"enter a mnt: \"))\n",
    "ist=int(input(\"enter a interst: \"))\n",
    "print(a+mnt+ist/100)"
   ]
  },
  {
   "cell_type": "markdown",
   "metadata": {},
   "source": [
    "### 07) WAP Calculate Area and Circumfrence of Circle"
   ]
  },
  {
   "cell_type": "code",
   "execution_count": 6,
   "metadata": {},
   "outputs": [
    {
     "name": "stdout",
     "output_type": "stream",
     "text": [
      "enter radius: 5\n",
      "78.5\n",
      "31.400000000000002\n"
     ]
    }
   ],
   "source": [
    "radius=int(input(\"enter radius: \"))\n",
    "print(3.14*radius*radius)\n",
    "print(2*3.14*radius)"
   ]
  },
  {
   "cell_type": "markdown",
   "metadata": {},
   "source": [
    "### 08) WAP to print Multiplication table of given number without using loops."
   ]
  },
  {
   "cell_type": "code",
   "execution_count": null,
   "metadata": {},
   "outputs": [],
   "source": [
    "a=int(input(\"enter a num: \"))\n",
    "print(f'{a} x 1 = {a*1}')\n",
    "print(f'{a} x 2 = {a*2}')\n",
    "print(f'{a} x 3 = {a*3}')\n",
    "print(f'{a} x 4 = {a*4}')\n",
    "print(f'{a} x 5 = {a*5}')\n",
    "print(f'{a} x 6 = {a*6}')\n",
    "print(f'{a} x 7 = {a*7}')\n",
    "print(f'{a} x 8 = {a*8}')\n",
    "print(f'{a} x 9 = {a*9}')\n",
    "print(f'{a} x 10 = {a*10}')"
   ]
  },
  {
   "cell_type": "markdown",
   "metadata": {},
   "source": [
    "### 09) WAP to calculate Area of Triangle (hint: a = h * b * 0.5)"
   ]
  },
  {
   "cell_type": "code",
   "execution_count": 8,
   "metadata": {},
   "outputs": [
    {
     "name": "stdout",
     "output_type": "stream",
     "text": [
      "enter base: 10\n",
      "enter height: 10\n",
      "50.0\n"
     ]
    }
   ],
   "source": [
    "a=int(input(\"enter base: \"))\n",
    "b=int(input(\"enter height: \"))\n",
    "print(a*b*0.5)\n"
   ]
  },
  {
   "cell_type": "markdown",
   "metadata": {},
   "source": [
    "### 10) WAP to convert degree to Fahrenheit and vice versa."
   ]
  },
  {
   "cell_type": "code",
   "execution_count": 11,
   "metadata": {},
   "outputs": [
    {
     "name": "stdout",
     "output_type": "stream",
     "text": [
      "enter deg50\n",
      "fer is122.0\n"
     ]
    }
   ],
   "source": [
    "deg=int(input(\"enter deg\"))\n",
    "print(f'fer is{(9/5*deg)+32}')"
   ]
  },
  {
   "cell_type": "markdown",
   "metadata": {},
   "source": [
    "### 11) WAP to calculate total marks and Percentage."
   ]
  },
  {
   "cell_type": "code",
   "execution_count": null,
   "metadata": {},
   "outputs": [],
   "source": [
    "a=int(input(\"enter math marks: \"))\n",
    "b=int(input(\"enter sci marks: \"))\n",
    "c=int(input(\"enter eng marks: \"))\n",
    "print(f\"total marks is:{a+b+c}\")\n",
    "print(f\"percentage is:{(a+b+c)/3}\")"
   ]
  },
  {
   "cell_type": "markdown",
   "metadata": {},
   "source": [
    "### 12) Compute distance between two points taking input from the user (Pythagorean Theorem)."
   ]
  },
  {
   "cell_type": "code",
   "execution_count": 15,
   "metadata": {},
   "outputs": [
    {
     "name": "stdout",
     "output_type": "stream",
     "text": [
      "enter a : 45\n",
      "enter b1 : 49\n",
      "enter b : 56\n",
      "enter b1 : 89\n",
      "33.24154027718932\n"
     ]
    }
   ],
   "source": [
    "a=int(input(\"enter a : \"))\n",
    "a1=int(input(\"enter b1 : \"))\n",
    "b=int(input(\"enter b : \"))\n",
    "b1=int(input(\"enter b1 : \"))\n",
    "c=(((a-a1)**2)+((b-b1)**2))\n",
    "print(c**(1/2))"
   ]
  },
  {
   "cell_type": "markdown",
   "metadata": {},
   "source": [
    "### 13) WAP to convert seconds into hours, minutes & seconds and print in HH:MM:SS\n",
    "[e.g. 10000 seconds mean 2:46:40 (2 Hours, 46 Minutes, 40Seconds)]"
   ]
  },
  {
   "cell_type": "code",
   "execution_count": 23,
   "metadata": {},
   "outputs": [
    {
     "name": "stdout",
     "output_type": "stream",
     "text": [
      "enter secount: 10000\n",
      " h :  2  m :  46  s :  40\n"
     ]
    }
   ],
   "source": [
    "sec=int(input(\"enter secount: \"))\n",
    "m1=int(sec/60)\n",
    "\n",
    "m=int((sec/60)%60)\n",
    "h=int((m1/60))\n",
    "s1=int(sec%60)\n",
    "\n",
    "print(\" h : \",h,\" m : \",m,\" s : \",s1)"
   ]
  },
  {
   "cell_type": "markdown",
   "metadata": {},
   "source": [
    "### 14) WAP to enter distance into kilometer and convert it into meter, feet,inches, and centimeter"
   ]
  },
  {
   "cell_type": "code",
   "execution_count": 24,
   "metadata": {},
   "outputs": [
    {
     "name": "stdout",
     "output_type": "stream",
     "text": [
      "enter a kilometer : 1\n",
      "meter : 1000\n",
      "feet: 3281\n",
      "inches:39370\n",
      "meter : 10000\n"
     ]
    }
   ],
   "source": [
    "kilo=int(input(\"enter a kilometer : \"))\n",
    "print(f\"meter : {kilo*1000}\")\n",
    "print(f\"feet: {kilo*3281}\")\n",
    "print(f\"inches:{kilo*39370}\")\n",
    "print(f\"meter : {kilo*10000}\")"
   ]
  }
 ],
 "metadata": {
  "kernelspec": {
   "display_name": "Python 3 (ipykernel)",
   "language": "python",
   "name": "python3"
  },
  "language_info": {
   "codemirror_mode": {
    "name": "ipython",
    "version": 3
   },
   "file_extension": ".py",
   "mimetype": "text/x-python",
   "name": "python",
   "nbconvert_exporter": "python",
   "pygments_lexer": "ipython3",
   "version": "3.11.5"
  },
  "vscode": {
   "interpreter": {
    "hash": "31f2aee4e71d21fbe5cf8b01ff0e069b9275f58929596ceb00d14d90e3e16cd6"
   }
  }
 },
 "nbformat": 4,
 "nbformat_minor": 4
}
