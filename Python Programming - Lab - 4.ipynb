{
 "cells": [
  {
   "cell_type": "markdown",
   "metadata": {},
   "source": [
    "\n",
    "<a href='https://www.darshan.ac.in/'> <img src='https://www.darshan.ac.in/Content/media/DU_Logo.svg' width=\"250\" height=\"300\"/></a>\n",
    "<pre>\n",
    "<center><b><h1>Python Programming - 2101CS405</b></center>\n",
    "<center><b><h1>Lab - 4</b></center>    \n",
    "<pre>"
   ]
  },
  {
   "cell_type": "markdown",
   "metadata": {},
   "source": [
    "# String"
   ]
  },
  {
   "cell_type": "markdown",
   "metadata": {},
   "source": [
    "### 01) WAP to check given string is palindrome or not."
   ]
  },
  {
   "cell_type": "code",
   "execution_count": 1,
   "metadata": {},
   "outputs": [
    {
     "name": "stdout",
     "output_type": "stream",
     "text": [
      "enter string::karan\n"
     ]
    }
   ],
   "source": [
    "str=(input(\"enter string::\"))"
   ]
  },
  {
   "cell_type": "code",
   "execution_count": 2,
   "metadata": {},
   "outputs": [
    {
     "name": "stdout",
     "output_type": "stream",
     "text": [
      "not\n"
     ]
    }
   ],
   "source": [
    "demo=\"\";\n",
    "for i in str[::-1]:\n",
    "    demo+=i\n",
    "if(str==demo):\n",
    "    print(\"Palindrome::\")\n",
    "else:\n",
    "    print(\"not\")"
   ]
  },
  {
   "cell_type": "markdown",
   "metadata": {},
   "source": [
    "### 02) WAP to reverse the words in given string."
   ]
  },
  {
   "cell_type": "code",
   "execution_count": 4,
   "metadata": {},
   "outputs": [
    {
     "name": "stdout",
     "output_type": "stream",
     "text": [
      "revrse is :  narak\n"
     ]
    }
   ],
   "source": [
    "demo=\"\"\n",
    "for i in str[::-1]:\n",
    "    demo+=i\n",
    "print(\"revrse is : \",demo)\n"
   ]
  },
  {
   "cell_type": "markdown",
   "metadata": {},
   "source": [
    "### 03) WAP to remove ith character from given string"
   ]
  },
  {
   "cell_type": "code",
   "execution_count": 15,
   "metadata": {},
   "outputs": [
    {
     "name": "stdout",
     "output_type": "stream",
     "text": [
      "enter n th index::1\n"
     ]
    }
   ],
   "source": [
    "nthindex=int(input(\"enter n th index::\"))\n"
   ]
  },
  {
   "cell_type": "code",
   "execution_count": 16,
   "metadata": {},
   "outputs": [
    {
     "name": "stdout",
     "output_type": "stream",
     "text": [
      "aran\n"
     ]
    }
   ],
   "source": [
    "if(nthindex>len(str)):\n",
    "    print(\"invalid length::\")\n",
    "else:\n",
    "    print(str.replace(str[nthindex-1],\"\"))"
   ]
  },
  {
   "cell_type": "markdown",
   "metadata": {},
   "source": [
    "### 04) WAP to find length of String without using len function."
   ]
  },
  {
   "cell_type": "code",
   "execution_count": 17,
   "metadata": {},
   "outputs": [
    {
     "name": "stdout",
     "output_type": "stream",
     "text": [
      "String length is: 5\n"
     ]
    }
   ],
   "source": [
    "count=0;\n",
    "for i in str:\n",
    "    count+=1\n",
    "print(\"String length is:\",count)"
   ]
  },
  {
   "cell_type": "markdown",
   "metadata": {},
   "source": [
    "### 05) WAP to print even length word in string."
   ]
  },
  {
   "cell_type": "code",
   "execution_count": 3,
   "metadata": {},
   "outputs": [
    {
     "name": "stdout",
     "output_type": "stream",
     "text": [
      "a\n",
      "a\n"
     ]
    }
   ],
   "source": [
    "for i in str[1::2]:\n",
    "    print(i)"
   ]
  },
  {
   "cell_type": "markdown",
   "metadata": {},
   "source": [
    "### 06) WAP to count numbers of vowels in given string."
   ]
  },
  {
   "cell_type": "code",
   "execution_count": 4,
   "metadata": {},
   "outputs": [
    {
     "name": "stdout",
     "output_type": "stream",
     "text": [
      "2\n"
     ]
    }
   ],
   "source": [
    "count=0;\n",
    "vowel=[\"a\",\"u\",\"i\",\"e\",\"o\",\"A\",\"U\",\"I\",\"O\",\"E\"];\n",
    "for i in str:\n",
    "    if i in vowel:\n",
    "        count+=1\n",
    "print(count)"
   ]
  },
  {
   "cell_type": "markdown",
   "metadata": {},
   "source": [
    "### 07) WAP to convert given array to string."
   ]
  },
  {
   "cell_type": "code",
   "execution_count": 5,
   "metadata": {},
   "outputs": [
    {
     "name": "stdout",
     "output_type": "stream",
     "text": [
      "karan\n"
     ]
    }
   ],
   "source": [
    "array_str=[\"k\",\"a\",\"r\",\"a\",\"n\"]\n",
    "demo=\"\";\n",
    "for i in array_str:\n",
    "    demo+=i\n",
    "    \n",
    "print(demo)\n",
    "    "
   ]
  },
  {
   "cell_type": "markdown",
   "metadata": {},
   "source": [
    "### 01) WAP to find out duplicate characters in given string."
   ]
  },
  {
   "cell_type": "code",
   "execution_count": 6,
   "metadata": {},
   "outputs": [
    {
     "name": "stdout",
     "output_type": "stream",
     "text": [
      "a  : is duplicate String\n"
     ]
    }
   ],
   "source": [
    "duplicate=[];\n",
    "demo=\"\"\n",
    "for i in str:\n",
    "    if i not in duplicate:\n",
    "        duplicate.append(i);\n",
    "    else:\n",
    "        demo+=i;\n",
    "    \n",
    "print(demo,\" : is duplicate String\")"
   ]
  },
  {
   "cell_type": "markdown",
   "metadata": {},
   "source": [
    "### 02) WAP to capitalize the first and last character of each word in a string."
   ]
  },
  {
   "cell_type": "code",
   "execution_count": 9,
   "metadata": {},
   "outputs": [
    {
     "name": "stdout",
     "output_type": "stream",
     "text": [
      "Enter a line i am karan a coder\n"
     ]
    }
   ],
   "source": [
    "line_str=input(\"Enter a line \")"
   ]
  },
  {
   "cell_type": "code",
   "execution_count": 11,
   "metadata": {},
   "outputs": [
    {
     "name": "stdout",
     "output_type": "stream",
     "text": [
      "I AM KaraN A CodeR \n"
     ]
    }
   ],
   "source": [
    "line_list=line_str.split(\" \")\n",
    "demo=\"\"\n",
    "for i in range(0,len(line_list)):\n",
    "    if(len(line_list[i])>1):\n",
    "        line_list[i]=line_list[i][0].upper()+line_list[i][1:(len(line_list[i])-1)]+line_list[i][len(line_list[i])-1].upper();\n",
    "        demo+=line_list[i]+\" \";\n",
    "    else:\n",
    "        line_list[i]=line_list[i][0].upper();\n",
    "        demo+=line_list[i]+\" \";\n",
    "        \n",
    "print(demo)       "
   ]
  },
  {
   "cell_type": "markdown",
   "metadata": {},
   "source": [
    "### 03) WAP to find Maximum frequency character in String."
   ]
  },
  {
   "cell_type": "code",
   "execution_count": 318,
   "metadata": {},
   "outputs": [
    {
     "name": "stdout",
     "output_type": "stream",
     "text": [
      "max freq is:: 2  \n",
      "max repeted char is:: y\n"
     ]
    }
   ],
   "source": [
    "string_array=[]\n",
    "freq=[]\n",
    "count=[]\n",
    "real={}\n",
    "for i in str:\n",
    "    if i in string_array:\n",
    "        freq.append(i)\n",
    "    else:\n",
    "        string_array.append(i)\n",
    "count=string_array\n",
    "\n",
    "for i in str:\n",
    "    if i in count:\n",
    "        real[i]=0\n",
    "for i in str:\n",
    "    if i in count:\n",
    "        real[i]+=1\n",
    "maxx=0\n",
    "char=\"\"   \n",
    "for k,y in real.items():\n",
    "    if(maxx<y):\n",
    "        maxx=y\n",
    "        char=k\n",
    "print(\"max freq is::\",maxx,\" \\nmax repeted char is::\",char)\n",
    "        \n",
    "    "
   ]
  },
  {
   "cell_type": "markdown",
   "metadata": {},
   "source": [
    "### 04) WAP to find Minimum frequency character in String."
   ]
  },
  {
   "cell_type": "code",
   "execution_count": 315,
   "metadata": {},
   "outputs": [
    {
     "name": "stdout",
     "output_type": "stream",
     "text": [
      "This are minimum: {'k': 1, 'r': 1, 'n': 1}\n"
     ]
    }
   ],
   "source": [
    "freq=[]\n",
    "counters={}\n",
    "\n",
    "for i in str:\n",
    "    if i not in freq:\n",
    "        freq.append(i)\n",
    "for i in freq:\n",
    "    counters[i]=0;\n",
    "    \n",
    "for i in str:\n",
    "    counters[i]+=1;\n",
    "    \n",
    "    \n",
    "    \n",
    "minn=list(counters.values())[0];\n",
    "\n",
    "chars={}\n",
    "for k,y in counters.items():\n",
    "    if(minn>y or minn==y):\n",
    "        chars[k]=y\n",
    "\n",
    "print(\"This are minimum:\",chars)\n",
    "        \n",
    "        \n"
   ]
  },
  {
   "cell_type": "markdown",
   "metadata": {},
   "source": [
    "### 05) WAP to check if a given string is binary string or not"
   ]
  },
  {
   "cell_type": "code",
   "execution_count": 332,
   "metadata": {},
   "outputs": [
    {
     "name": "stdout",
     "output_type": "stream",
     "text": [
      "Yes\n"
     ]
    }
   ],
   "source": [
    "b=[\"0\",\"1\"]\n",
    "falg=False\n",
    "b_str=\"1001\"\n",
    "for i in b_str:\n",
    "    if i in b:\n",
    "        flag=False\n",
    "    else:\n",
    "        flag=True\n",
    "if(flag==False):\n",
    "    print(\"Yes\")\n",
    "else:\n",
    "    print(\"not\")"
   ]
  }
 ],
 "metadata": {
  "kernelspec": {
   "display_name": "Python 3 (ipykernel)",
   "language": "python",
   "name": "python3"
  },
  "language_info": {
   "codemirror_mode": {
    "name": "ipython",
    "version": 3
   },
   "file_extension": ".py",
   "mimetype": "text/x-python",
   "name": "python",
   "nbconvert_exporter": "python",
   "pygments_lexer": "ipython3",
   "version": "3.11.5"
  },
  "vscode": {
   "interpreter": {
    "hash": "31f2aee4e71d21fbe5cf8b01ff0e069b9275f58929596ceb00d14d90e3e16cd6"
   }
  }
 },
 "nbformat": 4,
 "nbformat_minor": 4
}
