{
 "cells": [
  {
   "cell_type": "markdown",
   "metadata": {},
   "source": [
    "<a href='https://www.darshan.ac.in/'> <img src='https://www.darshan.ac.in/Content/media/DU_Logo.svg' width=\"250\" height=\"300\"/></a>\n",
    "<pre>\n",
    "<center><b><h1>Python Programming - 2101CS405</b></center>\n",
    "<center><b><h1>Lab - 6</b></center>    \n",
    "<pre>"
   ]
  },
  {
   "cell_type": "markdown",
   "metadata": {},
   "source": [
    "# Tuples, dictionary, set"
   ]
  },
  {
   "cell_type": "markdown",
   "metadata": {},
   "source": [
    "# A"
   ]
  },
  {
   "cell_type": "markdown",
   "metadata": {},
   "source": [
    "### 01) WAP to sort python dictionary by key or value."
   ]
  },
  {
   "cell_type": "code",
   "execution_count": 35,
   "metadata": {},
   "outputs": [],
   "source": [
    "stu={\n",
    "    3:\"x\",\n",
    "    5:\"a\",\n",
    "    1:\"z\",\n",
    "    4:\"b\",\n",
    "    2:\"y\"\n",
    "}\n"
   ]
  },
  {
   "cell_type": "code",
   "execution_count": 87,
   "metadata": {},
   "outputs": [
    {
     "name": "stdout",
     "output_type": "stream",
     "text": [
      "sorted by keys:: {1: 'z', 2: 'y', 3: 'x', 4: 'b', 5: 'a'}\n",
      "sorted by vals:: {5: 'a', 4: 'b', 3: 'x', 2: 'y', 1: 'z'}\n"
     ]
    }
   ],
   "source": [
    "sorted_stu={}\n",
    "l1=[];\n",
    "\n",
    "for i in stu.items():\n",
    "    l1.append(i)\n",
    "l1.sort()\n",
    "for i,j in l1:\n",
    "    sorted_stu[i]=j\n",
    "    \n",
    "\n",
    "\n",
    "    \n",
    "print(\"sorted by keys::\",sorted_stu)\n",
    "\n",
    "\n",
    "sorted_stu={}\n",
    "l1=[];\n",
    "\n",
    "for i,j in stu.items():\n",
    "    l1.append((j,i))\n",
    "    \n",
    "l1.sort();\n",
    "\n",
    "for i,j in l1:\n",
    "    sorted_stu[j]=i\n",
    "\n",
    "    \n",
    "print(\"sorted by vals::\",sorted_stu)\n",
    "\n",
    "\n",
    "    \n"
   ]
  },
  {
   "cell_type": "markdown",
   "metadata": {},
   "source": [
    "### 02) WAP to merge two dictionaries given by user."
   ]
  },
  {
   "cell_type": "code",
   "execution_count": 88,
   "metadata": {},
   "outputs": [
    {
     "name": "stdout",
     "output_type": "stream",
     "text": [
      "Enter a number5\n"
     ]
    }
   ],
   "source": [
    "x=int(input(\"Enter a number\"))"
   ]
  },
  {
   "cell_type": "code",
   "execution_count": 94,
   "metadata": {},
   "outputs": [
    {
     "name": "stdout",
     "output_type": "stream",
     "text": [
      "ENter a values1\n",
      "Enter Key::a\n",
      "ENter a values2\n",
      "Enter Key::b\n",
      "ENter a values3\n",
      "Enter Key::c\n",
      "ENter a values4\n",
      "Enter Key::d\n",
      "ENter a values5\n",
      "Enter Key::e\n",
      "ENter a values11\n",
      "Enter Key::aa\n",
      "ENter a values22\n",
      "Enter Key::bb\n",
      "ENter a values33\n",
      "Enter Key::cc\n",
      "ENter a values44\n",
      "Enter Key::dd\n",
      "ENter a values55\n",
      "Enter Key::ee\n"
     ]
    }
   ],
   "source": [
    "dict_demo1={};\n",
    "dict_demo2={};\n",
    "for i in range(0,x):\n",
    "    dict_demo1[input(\"Enter Key::\")]=int(input(\"ENter a values\"))\n",
    "    \n",
    "for i in range(0,x):\n",
    "    dict_demo2[input(\"Enter Key 2nd dict::\")]=int(input(\"Enter a values of 2nd dict\"))  \n",
    "    \n"
   ]
  },
  {
   "cell_type": "code",
   "execution_count": 98,
   "metadata": {},
   "outputs": [
    {
     "name": "stdout",
     "output_type": "stream",
     "text": [
      "{'a': 1, 'b': 2, 'c': 3, 'd': 4, 'e': 5, 'aa': 11, 'bb': 22, 'cc': 33, 'dd': 44, 'ee': 55}\n"
     ]
    }
   ],
   "source": [
    "dict_demo1.update(dict_demo2)\n",
    "print(dict_demo1)"
   ]
  },
  {
   "cell_type": "markdown",
   "metadata": {},
   "source": [
    "### 03) WAP to find tuples that have all elements divisible by K from a list of tuples."
   ]
  },
  {
   "cell_type": "code",
   "execution_count": 171,
   "metadata": {},
   "outputs": [
    {
     "name": "stdout",
     "output_type": "stream",
     "text": [
      "{(3, 6)}\n"
     ]
    }
   ],
   "source": [
    "l1=[(5,25,6),(10,-1,2),(4,17,19),(3,6)]\n",
    "of_flag=False;\n",
    "count=0\n",
    "s_1=set()\n",
    "for i in range(0,len(l1)):\n",
    "    for j in l1[i]:\n",
    "        if(j%3==0):\n",
    "            count+=1\n",
    "            if(count==len(l1[i])):\n",
    "                s_1.add(l1[i])\n",
    "               \n",
    "        \n",
    "        if(of_flag==True):\n",
    "               s_1.add(l1[i])\n",
    "print(s_1)\n",
    "            \n",
    "       \n",
    "    "
   ]
  },
  {
   "cell_type": "markdown",
   "metadata": {},
   "source": [
    "### 04) WAP to find Tuples with positive elements in List of tuples."
   ]
  },
  {
   "cell_type": "code",
   "execution_count": 174,
   "metadata": {},
   "outputs": [
    {
     "name": "stdout",
     "output_type": "stream",
     "text": [
      "[(5, 25, 6), (4, 17, 19), (3, 6)]\n"
     ]
    }
   ],
   "source": [
    "li=[i for i in l1 if all(ele>0 for ele in i)]\n",
    "print(li)"
   ]
  },
  {
   "cell_type": "markdown",
   "metadata": {},
   "source": [
    "### 05) WAP which perform union of two sets."
   ]
  },
  {
   "cell_type": "code",
   "execution_count": 172,
   "metadata": {},
   "outputs": [
    {
     "name": "stdout",
     "output_type": "stream",
     "text": [
      "{1, 2, 3, 4, 5, 6}\n"
     ]
    }
   ],
   "source": [
    "s1={5,4,3,2,1}\n",
    "s2={6,5,4,3,2,1}\n",
    "print(s1.union(s2))"
   ]
  },
  {
   "cell_type": "markdown",
   "metadata": {},
   "source": [
    "# B"
   ]
  },
  {
   "cell_type": "markdown",
   "metadata": {},
   "source": [
    "### 01) WAP to convert binary tuple into integer."
   ]
  },
  {
   "cell_type": "code",
   "execution_count": 52,
   "metadata": {},
   "outputs": [
    {
     "name": "stdout",
     "output_type": "stream",
     "text": [
      "13\n"
     ]
    }
   ],
   "source": [
    "tup_bin=(1,1,0,1)\n",
    "sum=0\n",
    "index=0\n",
    "for i in tup_bin[::-1]:\n",
    "    sum+=2**index*i\n",
    "    index+=1\n",
    "print(sum)"
   ]
  },
  {
   "cell_type": "code",
   "execution_count": 53,
   "metadata": {
    "scrolled": false
   },
   "outputs": [
    {
     "name": "stdout",
     "output_type": "stream",
     "text": [
      "13\n"
     ]
    }
   ],
   "source": [
    "sums=0\n",
    "les=len(tup_bin)\n",
    "index=les-1\n",
    "for i in tup_bin:\n",
    "    sums+=2**index*i\n",
    "    index-=1\n",
    "print(sums)"
   ]
  },
  {
   "cell_type": "markdown",
   "metadata": {},
   "source": [
    "### 02) WAP to count frequency in list by dictionary."
   ]
  },
  {
   "cell_type": "code",
   "execution_count": 92,
   "metadata": {},
   "outputs": [
    {
     "name": "stdout",
     "output_type": "stream",
     "text": [
      "{1: 5, 2: 1, 3: 1, 4: 1, 5: 1, 6: 1, 7: 1, 8: 1}\n"
     ]
    }
   ],
   "source": [
    "list_l1=[1,1,1,2,3,4,5,6,7,8,1,1]\n",
    "dict_new={};\n",
    "dict_els={}\n",
    "\n",
    "c_list=set(list_l1)\n",
    "\n",
    "for i in c_list:\n",
    "    dict_els[i]=0\n",
    "        \n",
    "for i in list_l1:\n",
    "    dict_els[i]+=1\n",
    "        \n",
    "        \n",
    "# for i in list_l1:\n",
    "#     dict_new[i]=list_l1.count(i)\n",
    "print(dict_els)"
   ]
  },
  {
   "cell_type": "markdown",
   "metadata": {},
   "source": [
    "### 03) WAP to remove all the duplicate words from the list using dictionary."
   ]
  },
  {
   "cell_type": "code",
   "execution_count": 98,
   "metadata": {},
   "outputs": [
    {
     "name": "stdout",
     "output_type": "stream",
     "text": [
      "['red', 'orange', 'yellow']\n"
     ]
    }
   ],
   "source": [
    "strs=\"red orange yellow red orange yellow\"\n",
    "list_strs=strs.split(\" \")\n",
    "list_2=[]\n",
    "\n",
    "for i in list_strs:\n",
    "    if i not in list_2:\n",
    "        list_2.append(i)\n",
    "print(list_2)"
   ]
  },
  {
   "cell_type": "code",
   "execution_count": 114,
   "metadata": {},
   "outputs": [
    {
     "name": "stdout",
     "output_type": "stream",
     "text": [
      "[6, 7, 8, 1, 2, 3, 4, 5]\n"
     ]
    }
   ],
   "source": [
    "#learn pivot\n",
    "l123=[1,2,3,4,5,6,7,8]\n",
    "n=5\n",
    "l321=[]\n",
    "\n",
    "for i in range(n,len(l123)):\n",
    "    l321.append(l123[i])\n",
    "\n",
    "for i in range(0,n):\n",
    "    l321.append(l123[i])\n",
    "    \n",
    "print(l321)"
   ]
  },
  {
   "cell_type": "code",
   "execution_count": 12,
   "metadata": {},
   "outputs": [
    {
     "name": "stdout",
     "output_type": "stream",
     "text": [
      "8\n"
     ]
    }
   ],
   "source": [
    "def demos(base,power):\n",
    "    if power==0:\n",
    "        return 1\n",
    "    else:\n",
    "        return (base*demos(base,power-1))\n",
    "print(demos(2,3))"
   ]
  },
  {
   "cell_type": "code",
   "execution_count": 43,
   "metadata": {},
   "outputs": [
    {
     "name": "stdout",
     "output_type": "stream",
     "text": [
      "Number of digits :  3\n"
     ]
    }
   ],
   "source": [
    "def countDigit(n): \n",
    "    if n//10 == 0: \n",
    "        return 1\n",
    "    return 1 + countDigit(n // 10) \n",
    "\n",
    "\n",
    "n = 321\n",
    "print(\"Number of digits : % d\" % (countDigit(n))) \n",
    "\n"
   ]
  },
  {
   "cell_type": "code",
   "execution_count": 70,
   "metadata": {},
   "outputs": [
    {
     "name": "stdout",
     "output_type": "stream",
     "text": [
      "123\n"
     ]
    }
   ],
   "source": [
    "r2=0\n",
    "def revs(n):\n",
    "    global r2\n",
    "    if n>0:\n",
    "        r1=n%10\n",
    "        r2=(r2*10)+r1\n",
    "        revs(n//10)\n",
    "    return r2\n",
    "    \n",
    "print(revs(321))\n"
   ]
  },
  {
   "cell_type": "code",
   "execution_count": 76,
   "metadata": {},
   "outputs": [
    {
     "name": "stdout",
     "output_type": "stream",
     "text": [
      "101010\n"
     ]
    }
   ],
   "source": [
    "def find( n ):\n",
    "    if n == 0:\n",
    "        return 0\n",
    "    else:\n",
    "        return (n % 2 + 10 *find(int(n // 2)))\n",
    "\n",
    "\n",
    "print(find(42))\n",
    "\n"
   ]
  },
  {
   "cell_type": "code",
   "execution_count": 80,
   "metadata": {},
   "outputs": [
    {
     "name": "stdout",
     "output_type": "stream",
     "text": [
      "123\n"
     ]
    }
   ],
   "source": [
    "def revs(n,r2=0):\n",
    "    if n==0:\n",
    "        return r2\n",
    "    else:\n",
    "        r1=n%10\n",
    "        r2=r2*10+r1\n",
    "        return revs(n//10,r2)\n",
    "print(revs(321))"
   ]
  }
 ],
 "metadata": {
  "kernelspec": {
   "display_name": "Python 3 (ipykernel)",
   "language": "python",
   "name": "python3"
  },
  "language_info": {
   "codemirror_mode": {
    "name": "ipython",
    "version": 3
   },
   "file_extension": ".py",
   "mimetype": "text/x-python",
   "name": "python",
   "nbconvert_exporter": "python",
   "pygments_lexer": "ipython3",
   "version": "3.10.9"
  }
 },
 "nbformat": 4,
 "nbformat_minor": 4
}
