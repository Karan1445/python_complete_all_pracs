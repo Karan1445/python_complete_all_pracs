{
 "cells": [
  {
   "cell_type": "markdown",
   "metadata": {},
   "source": [
    "<a href='https://www.darshan.ac.in/'> <img src='https://www.darshan.ac.in/Content/media/DU_Logo.svg' width=\"250\" height=\"300\"/></a>\n",
    "<pre>\n",
    "<center><b><h1>Python Programming - 2101CS405</b></center>\n",
    "<center><b><h1>Lab - 9</b></center>    \n",
    "<pre>"
   ]
  },
  {
   "cell_type": "markdown",
   "metadata": {},
   "source": [
    "# Exception Handling"
   ]
  },
  {
   "cell_type": "markdown",
   "metadata": {},
   "source": [
    "# A"
   ]
  },
  {
   "cell_type": "markdown",
   "metadata": {},
   "source": [
    "### 01) WAP to handle divide by zero exception."
   ]
  },
  {
   "cell_type": "code",
   "execution_count": 2,
   "metadata": {},
   "outputs": [
    {
     "name": "stdout",
     "output_type": "stream",
     "text": [
      "Divide By zero Exception\n"
     ]
    }
   ],
   "source": [
    "try:\n",
    "    a=1/0\n",
    "except:\n",
    "    print(\"Divide By zero Exception\")"
   ]
  },
  {
   "cell_type": "markdown",
   "metadata": {},
   "source": [
    "### 02)  Write a Python program that inputs a number and generates an error message if it is not a number."
   ]
  },
  {
   "cell_type": "code",
   "execution_count": 10,
   "metadata": {},
   "outputs": [
    {
     "name": "stdout",
     "output_type": "stream",
     "text": [
      "its not a number\n"
     ]
    }
   ],
   "source": [
    "try:\n",
    "    if(type(\"karan\")!=int):\n",
    "        raise \"error\"\n",
    "except:\n",
    "    print(\"its not a number\")"
   ]
  },
  {
   "cell_type": "markdown",
   "metadata": {},
   "source": [
    "### 03) WAP to handle file not found Exception"
   ]
  },
  {
   "cell_type": "code",
   "execution_count": 11,
   "metadata": {},
   "outputs": [
    {
     "name": "stdout",
     "output_type": "stream",
     "text": [
      "file not found\n"
     ]
    }
   ],
   "source": [
    "try:\n",
    "    obj=open(\"newnew.txt\")\n",
    "except:\n",
    "    print(\"file not found\")"
   ]
  },
  {
   "cell_type": "markdown",
   "metadata": {},
   "source": [
    "### 04) WAP to handle type Exception."
   ]
  },
  {
   "cell_type": "code",
   "execution_count": 12,
   "metadata": {},
   "outputs": [
    {
     "name": "stdout",
     "output_type": "stream",
     "text": [
      "type\n"
     ]
    }
   ],
   "source": [
    "try:\n",
    "    \"1\"+1\n",
    "except:\n",
    "    print(\"type\")"
   ]
  },
  {
   "cell_type": "markdown",
   "metadata": {},
   "source": [
    "### 05) WAP to demonstrate valueError and indexError with example."
   ]
  },
  {
   "cell_type": "code",
   "execution_count": 22,
   "metadata": {},
   "outputs": [
    {
     "name": "stdout",
     "output_type": "stream",
     "text": [
      "Invalid Value\n"
     ]
    }
   ],
   "source": [
    "a=[0,1,2]\n",
    "try:\n",
    "    for i in range(3,4):\n",
    "        a[i]=int(\"num\")\n",
    "except IndexError:\n",
    "    print(\"index out of bound\")\n",
    "except ValueError:\n",
    "    print(\"Invalid Value\")"
   ]
  },
  {
   "cell_type": "markdown",
   "metadata": {},
   "source": [
    "### 06) WAP to domonstrate else  and finally block."
   ]
  },
  {
   "cell_type": "code",
   "execution_count": 24,
   "metadata": {},
   "outputs": [
    {
     "name": "stdout",
     "output_type": "stream",
     "text": [
      "divide Zero\n",
      "always genrate\n"
     ]
    }
   ],
   "source": [
    "try:\n",
    "    a=9/0\n",
    "except:\n",
    "    print(\"divide Zero\")\n",
    "else:\n",
    "    print(\"no exception\")\n",
    "finally:\n",
    "    print(\"always genrate\")"
   ]
  },
  {
   "cell_type": "markdown",
   "metadata": {},
   "source": [
    "### 07) Create a short program that prompts the user for a list of grades separated by commas. Split the string into individual grades and use a list comprehension to convert each string to an integer. You should use a try statement to inform the user when the values they entered cannot be converted."
   ]
  },
  {
   "cell_type": "code",
   "execution_count": 41,
   "metadata": {},
   "outputs": [
    {
     "name": "stdout",
     "output_type": "stream",
     "text": [
      "invalid value\n"
     ]
    }
   ],
   "source": [
    "inps=\"12,23,45,67,12,12,123l\"\n",
    "try:\n",
    "    arr=[int(i) for i in inps.split(\",\")]\n",
    "except ValueError:\n",
    "    print(\"invalid value\")\n",
    "else:\n",
    "    print(arr)\n"
   ]
  },
  {
   "cell_type": "markdown",
   "metadata": {},
   "source": [
    "# B"
   ]
  },
  {
   "cell_type": "markdown",
   "metadata": {},
   "source": [
    "### 01) WAP to Raising User Generated Exception."
   ]
  },
  {
   "cell_type": "code",
   "execution_count": 60,
   "metadata": {},
   "outputs": [
    {
     "name": "stdout",
     "output_type": "stream",
     "text": [
      "zeroooooooo\n",
      "hellas\n"
     ]
    }
   ],
   "source": [
    "try:\n",
    "    if(1==1):\n",
    "        raise ZeroDivisionError(\"zeroooooooo\")\n",
    "        \n",
    "except ZeroDivisionError as e:\n",
    "    print(e)\n",
    "    \n",
    "finally:\n",
    "    print(\"hellas\")"
   ]
  },
  {
   "cell_type": "markdown",
   "metadata": {},
   "source": [
    "### 02) WAP to raise your custom Exception."
   ]
  },
  {
   "cell_type": "code",
   "execution_count": 57,
   "metadata": {},
   "outputs": [
    {
     "name": "stdout",
     "output_type": "stream",
     "text": [
      "1===1\n",
      "hellas\n"
     ]
    }
   ],
   "source": [
    "class Myexp(Exception):\n",
    "    def __init__(self,msg):\n",
    "        self.msg=msg\n",
    "try:\n",
    "    if(1==1):\n",
    "        raise Myexp(\"1===1\")\n",
    "        \n",
    "except Myexp as e:\n",
    "    print(e.msg)\n",
    "    \n",
    "finally:\n",
    "    print(\"hellas\")"
   ]
  }
 ],
 "metadata": {
  "kernelspec": {
   "display_name": "Python 3 (ipykernel)",
   "language": "python",
   "name": "python3"
  },
  "language_info": {
   "codemirror_mode": {
    "name": "ipython",
    "version": 3
   },
   "file_extension": ".py",
   "mimetype": "text/x-python",
   "name": "python",
   "nbconvert_exporter": "python",
   "pygments_lexer": "ipython3",
   "version": "3.11.5"
  }
 },
 "nbformat": 4,
 "nbformat_minor": 4
}
